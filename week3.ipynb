{
 "cells": [
  {
   "cell_type": "code",
   "execution_count": 1,
   "id": "a8d137dd-df4b-4aaa-8fe2-3bc3c0b217fb",
   "metadata": {},
   "outputs": [
    {
     "name": "stdout",
     "output_type": "stream",
     "text": [
      "Array from list: [1 2 3 4 5]\n",
      "Array from tuple: [ 6  7  8  9 10]\n"
     ]
    }
   ],
   "source": [
    "import numpy as np\n",
    "\n",
    "list_data = [1, 2, 3, 4, 5]\n",
    "array_from_list = np.array(list_data)\n",
    "print(\"Array from list:\", array_from_list)\n",
    "\n",
    "tuple_data = (6, 7, 8, 9, 10)\n",
    "array_from_tuple = np.array(tuple_data)\n",
    "print(\"Array from tuple:\", array_from_tuple)\n"
   ]
  },
  {
   "cell_type": "code",
   "execution_count": 4,
   "id": "c27d148d-3563-46c7-ba9f-e30752914c4e",
   "metadata": {},
   "outputs": [
    {
     "name": "stdin",
     "output_type": "stream",
     "text": [
      "Enter the first number:  12\n",
      "Enter the second number:  11\n"
     ]
    },
    {
     "name": "stdout",
     "output_type": "stream",
     "text": [
      "The GCD is: 1\n"
     ]
    }
   ],
   "source": [
    "def gcd(a, b):\n",
    "    while b:\n",
    "        a, b = b, a % b\n",
    "    return a\n",
    "\n",
    "a = int(input(\"Enter the first number: \"))\n",
    "b = int(input(\"Enter the second number: \"))\n",
    "\n",
    "result = gcd(a, b)\n",
    "print(\"The GCD is:\", result)\n"
   ]
  },
  {
   "cell_type": "code",
   "execution_count": 6,
   "id": "57f59a33-b263-4cf2-8d70-4c547d9e9c3f",
   "metadata": {},
   "outputs": [
    {
     "name": "stdin",
     "output_type": "stream",
     "text": [
      "Enter a string:  madam\n"
     ]
    },
    {
     "name": "stdout",
     "output_type": "stream",
     "text": [
      "True\n"
     ]
    }
   ],
   "source": [
    "def palindrome(s):\n",
    "    return s == s[::-1]\n",
    "\n",
    "string = input(\"Enter a string: \")\n",
    "result = palindrome(string)\n",
    "print(result)\n"
   ]
  },
  {
   "cell_type": "code",
   "execution_count": 8,
   "id": "61c188a7-19e7-4461-963b-9e0596f539fc",
   "metadata": {},
   "outputs": [
    {
     "name": "stdin",
     "output_type": "stream",
     "text": [
      "Enter numbers separated by spaces:  12 13 13\n"
     ]
    },
    {
     "name": "stdout",
     "output_type": "stream",
     "text": [
      "Mean: 12.666666666666666\n",
      "Median: 13\n",
      "Mode: 13\n"
     ]
    }
   ],
   "source": [
    "import statistics\n",
    "\n",
    "numbers = [int(x) for x in input(\"Enter numbers separated by spaces: \").split()]\n",
    "\n",
    "mean = statistics.mean(numbers)\n",
    "median = statistics.median(numbers)\n",
    "mode = statistics.mode(numbers)\n",
    "\n",
    "print(f\"Mean: {mean}\")\n",
    "print(f\"Median: {median}\")\n",
    "print(f\"Mode: {mode}\")\n"
   ]
  },
  {
   "cell_type": "code",
   "execution_count": 9,
   "id": "0ba12011-4f1e-4a8c-ba1f-dd175390f022",
   "metadata": {},
   "outputs": [
    {
     "name": "stdout",
     "output_type": "stream",
     "text": [
      "The tuple is: (1, 2, 3, 4, 5)\n"
     ]
    }
   ],
   "source": [
    "# Creating a tuple\n",
    "my_tuple = (1, 2, 3, 4, 5)\n",
    "\n",
    "print(\"The tuple is:\", my_tuple)\n"
   ]
  },
  {
   "cell_type": "code",
   "execution_count": 10,
   "id": "74acb472-7ad5-4f4d-923d-1bf93ac95a7d",
   "metadata": {},
   "outputs": [
    {
     "name": "stdout",
     "output_type": "stream",
     "text": [
      "The tuple is: (1, 'Hello', 3.14, True, [1, 2, 3])\n"
     ]
    }
   ],
   "source": [
    "\n",
    "my_tuple = (1, \"Hello\", 3.14, True, [1, 2, 3])\n",
    "\n",
    "print(\"The tuple is:\", my_tuple)\n"
   ]
  },
  {
   "cell_type": "code",
   "execution_count": null,
   "id": "380e5315-e0f9-4616-bae4-38589c3e8bed",
   "metadata": {},
   "outputs": [],
   "source": []
  }
 ],
 "metadata": {
  "kernelspec": {
   "display_name": "Python 3 (ipykernel)",
   "language": "python",
   "name": "python3"
  },
  "language_info": {
   "codemirror_mode": {
    "name": "ipython",
    "version": 3
   },
   "file_extension": ".py",
   "mimetype": "text/x-python",
   "name": "python",
   "nbconvert_exporter": "python",
   "pygments_lexer": "ipython3",
   "version": "3.12.6"
  }
 },
 "nbformat": 4,
 "nbformat_minor": 5
}
