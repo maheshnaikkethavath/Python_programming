{
 "cells": [
  {
   "cell_type": "code",
   "execution_count": 1,
   "id": "5ad63e62-d080-4730-8d00-4548ffa2576f",
   "metadata": {},
   "outputs": [
    {
     "name": "stdout",
     "output_type": "stream",
     "text": [
      "True\n",
      "False\n"
     ]
    }
   ],
   "source": [
    "def is_sorted(lst):\n",
    "    return lst == sorted(lst)\n",
    "\n",
    "numbers = [1, 2, 3, 4, 5]\n",
    "result = is_sorted(numbers)\n",
    "print(result)  \n",
    "\n",
    "numbers = [5, 3, 4, 1, 2]\n",
    "result = is_sorted(numbers)\n",
    "print(result)  \n"
   ]
  },
  {
   "cell_type": "code",
   "execution_count": 2,
   "id": "e7131b8c-fab2-41eb-8958-122b7a053e1e",
   "metadata": {},
   "outputs": [
    {
     "name": "stdout",
     "output_type": "stream",
     "text": [
      "True\n",
      "False\n",
      "[1, 2, 3, 4, 5]\n",
      "{1: 'a', 2: 'b', 3: 'c'}\n"
     ]
    }
   ],
   "source": [
    "# Function 1: Check for duplicates\n",
    "def has_duplicates(lst):\n",
    "    return len(lst) != len(set(lst))\n",
    "\n",
    "# Function 2: Remove duplicates\n",
    "def remove_duplicates(lst):\n",
    "    return list(set(lst))\n",
    "\n",
    "# Function 3: Invert dictionary keys and values\n",
    "def invert_dict(d):\n",
    "    return {v: k for k, v in d.items()}\n",
    "\n",
    "# Example usage:\n",
    "numbers = [1, 2, 3, 4, 5, 1]\n",
    "print(has_duplicates(numbers))  # True\n",
    "\n",
    "numbers = [1, 2, 3, 4, 5]\n",
    "print(has_duplicates(numbers))  # False\n",
    "\n",
    "numbers = [1, 2, 3, 4, 5, 1, 2]\n",
    "print(remove_duplicates(numbers))  # [1, 2, 3, 4, 5]\n",
    "\n",
    "user_dict = {\"a\": 1, \"b\": 2, \"c\": 3}\n",
    "inverted_dict = invert_dict(user_dict)\n",
    "print(inverted_dict)  # {1: 'a', 2: 'b', 3: 'c'}\n"
   ]
  },
  {
   "cell_type": "code",
   "execution_count": 3,
   "id": "5e215855-8ff7-4169-9f8f-dd9ed1306df4",
   "metadata": {},
   "outputs": [
    {
     "name": "stdout",
     "output_type": "stream",
     "text": [
      "Hello World This Is Python\n"
     ]
    }
   ],
   "source": [
    "def capitalize_words(sentence):\n",
    "    words = sentence.split()\n",
    "    result = []\n",
    "    for word in words:\n",
    "        capitalized_word = word[0].upper() + word[1:].lower()\n",
    "        result.append(capitalized_word)\n",
    "    return ' '.join(result)\n",
    "\n",
    "\n",
    "sentence = \"hello world this is python\"\n",
    "result = capitalize_words(sentence)\n",
    "print(result) \n"
   ]
  },
  {
   "cell_type": "code",
   "execution_count": null,
   "id": "f1493f64-594d-4cec-b0f1-23b52305717d",
   "metadata": {},
   "outputs": [],
   "source": [
    "def generate_binary_strings(n, s=\"\"):\n",
    "    if n == 0:\n",
    "        print(s)\n",
    "        return\n",
    "    generate_binary_strings(n-1, s+\"0\")\n",
    "    generate_binary_strings(n-1, s+\"1\")\n",
    "\n",
    "n = int(input(\"Enter the number of bits: \"))\n",
    "generate_binary_strings(n)\n"
   ]
  },
  {
   "cell_type": "code",
   "execution_count": null,
   "id": "6783db47-48b6-43b6-969e-86003263bafa",
   "metadata": {},
   "outputs": [],
   "source": []
  },
  {
   "cell_type": "code",
   "execution_count": null,
   "id": "4083e0b2-3f93-4f3a-bca4-519da38fd997",
   "metadata": {},
   "outputs": [],
   "source": [
    "set1 = {1, 2, 3, 4, 5}\n",
    "set2 = {4, 5, 6, 7, 8}\n",
    "\n",
    "union_result = set1.union(set2)\n",
    "print(\"Union of set1 and set2:\", union_result)\n",
    "\n",
    "intersection_result = set1.intersection(set2)\n",
    "print(\"Intersection of set1 and set2:\", intersection_result)\n",
    "\n",
    "difference_result = set1.difference(set2)\n",
    "print(\"Difference of set1 and set2 (set1 - set2):\", difference_result)\n",
    "\n",
    "symmetric_difference_result = set1.symmetric_difference(set2)\n",
    "print(\"Symmetric Difference of set1 and set2:\", symmetric_difference_result)\n",
    "\n",
    "subset_result = set1.issubset(set2)\n",
    "print(\"Is set1 a subset of set2?\", subset_result)\n",
    "\n",
    "superset_result = set1.issuperset(set2)\n",
    "print(\"Is set1 a superset of set2?\", superset_result)\n",
    "\n",
    "disjoint_result = set1.isdisjoint(set2)\n",
    "print(\"Are set1 and set2 disjoint?\", disjoint_result)\n",
    "\n",
    "set1.add(9)\n",
    "print(\"set1 after adding 9:\", set1)\n",
    "\n",
    "set1.remove(9)\n",
    "print(\"set1 after removing 9:\", set1)\n",
    "\n",
    "set1.clear()\n",
    "print(\"set1 after clearing all elements:\", set1)\n"
   ]
  },
  {
   "cell_type": "code",
   "execution_count": null,
   "id": "5080f7de-f3be-44a1-8737-b23c27e392b9",
   "metadata": {},
   "outputs": [],
   "source": []
  },
  {
   "cell_type": "code",
   "execution_count": null,
   "id": "3f731ad1-60ca-400b-b16f-0f8e4f07642a",
   "metadata": {},
   "outputs": [],
   "source": [
    "def is_palindrome(s):\n",
    "    return s == s[::-1]\n",
    "\n",
    "# Example usage:\n",
    "string = input(\"Enter a string: \")\n",
    "if is_palindrome(string):\n",
    "    print(f\"'{string}' is a palindrome.\")\n",
    "else:\n",
    "    print(f\"'{string}' is not a palindrome.\")\n"
   ]
  },
  {
   "cell_type": "code",
   "execution_count": null,
   "id": "befc5922-c01b-4165-96ab-e7d0550b3e9b",
   "metadata": {},
   "outputs": [],
   "source": []
  }
 ],
 "metadata": {
  "kernelspec": {
   "display_name": "Python 3 (ipykernel)",
   "language": "python",
   "name": "python3"
  },
  "language_info": {
   "codemirror_mode": {
    "name": "ipython",
    "version": 3
   },
   "file_extension": ".py",
   "mimetype": "text/x-python",
   "name": "python",
   "nbconvert_exporter": "python",
   "pygments_lexer": "ipython3",
   "version": "3.12.6"
  }
 },
 "nbformat": 4,
 "nbformat_minor": 5
}
