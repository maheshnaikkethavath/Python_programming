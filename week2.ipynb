{
 "cells": [
  {
   "cell_type": "code",
   "execution_count": 1,
   "id": "de472637-ead2-424c-a6d0-217d2f647e10",
   "metadata": {},
   "outputs": [
    {
     "name": "stdout",
     "output_type": "stream",
     "text": [
      "5\n",
      "4 4\n",
      "3 3 3\n",
      "2 2 2 2\n",
      "1 1 1 1 1\n"
     ]
    }
   ],
   "source": [
    "for i in range(5, 0, -1):\n",
    "    print(\" \".join([str(i)] * (6 - i)))\n"
   ]
  },
  {
   "cell_type": "code",
   "execution_count": 2,
   "id": "1f148383-7da2-4a8a-b931-883bb5630201",
   "metadata": {},
   "outputs": [
    {
     "name": "stdin",
     "output_type": "stream",
     "text": [
      "Enter a character:  #\n"
     ]
    },
    {
     "name": "stdout",
     "output_type": "stream",
     "text": [
      "'#' is a special character.\n"
     ]
    }
   ],
   "source": [
    "def check_input(char):\n",
    "    if char.isdigit():\n",
    "        print(f\"'{char}' is a digit.\")\n",
    "    elif char.islower():\n",
    "        print(f\"'{char}' is a lowercase character.\")\n",
    "    elif char.isupper():\n",
    "        print(f\"'{char}' is an uppercase character.\")\n",
    "    else:\n",
    "        print(f\"'{char}' is a special character.\")\n",
    "\n",
    "\n",
    "char = input(\"Enter a character: \")\n",
    "check_input(char)\n"
   ]
  },
  {
   "cell_type": "code",
   "execution_count": 3,
   "id": "9de353bf-6473-42bf-80f4-5f5d89ffa32a",
   "metadata": {},
   "outputs": [
    {
     "name": "stdin",
     "output_type": "stream",
     "text": [
      "Enter the number of terms:  12\n"
     ]
    },
    {
     "name": "stdout",
     "output_type": "stream",
     "text": [
      "0 1 1 2 3 5 8 13 21 34 55 89 "
     ]
    }
   ],
   "source": [
    "def fibonacci(n):\n",
    "    a, b = 0, 1\n",
    "    count = 0\n",
    "    while count < n:\n",
    "        print(a, end=\" \")\n",
    "        a, b = b, a + b\n",
    "        count += 1\n",
    "\n",
    "# Example usage:\n",
    "n = int(input(\"Enter the number of terms: \"))\n",
    "fibonacci(n)\n"
   ]
  },
  {
   "cell_type": "code",
   "execution_count": 4,
   "id": "1facd554-67db-4a2a-945e-4efbfae3840c",
   "metadata": {},
   "outputs": [
    {
     "name": "stdin",
     "output_type": "stream",
     "text": [
      "Enter the start of the interval:  12\n",
      "Enter the end of the interval:  15\n"
     ]
    },
    {
     "name": "stdout",
     "output_type": "stream",
     "text": [
      "13 "
     ]
    }
   ],
   "source": [
    "def print_primes_in_interval(start, end):\n",
    "    for num in range(start, end + 1):\n",
    "        if num < 2:\n",
    "            continue\n",
    "        for i in range(2, num):\n",
    "            if num % i == 0:\n",
    "                break\n",
    "        else:\n",
    "            print(num, end=\" \")\n",
    "\n",
    "\n",
    "start = int(input(\"Enter the start of the interval: \"))\n",
    "end = int(input(\"Enter the end of the interval: \"))\n",
    "print_primes_in_interval(start, end)\n"
   ]
  },
  {
   "cell_type": "code",
   "execution_count": 5,
   "id": "4728c24e-7054-4771-b75d-5f7ad488dd25",
   "metadata": {},
   "outputs": [
    {
     "name": "stdin",
     "output_type": "stream",
     "text": [
      "Enter the first number:  12\n",
      "Enter the second number:  13\n"
     ]
    },
    {
     "name": "stdout",
     "output_type": "stream",
     "text": [
      "The LCM of 12 and 13 is 156\n"
     ]
    }
   ],
   "source": [
    "def compute_lcm(a, b):\n",
    "    greater = max(a, b)\n",
    "    while True:\n",
    "        if greater % a == 0 and greater % b == 0:\n",
    "            return greater\n",
    "        greater += 1\n",
    "\n",
    "num1 = int(input(\"Enter the first number: \"))\n",
    "num2 = int(input(\"Enter the second number: \"))\n",
    "lcm = compute_lcm(num1, num2)\n",
    "print(f\"The LCM of {num1} and {num2} is {lcm}\")\n"
   ]
  },
  {
   "cell_type": "code",
   "execution_count": 7,
   "id": "795a0bd9-e5ae-4fba-9835-420a9f8c055c",
   "metadata": {},
   "outputs": [
    {
     "name": "stdout",
     "output_type": "stream",
     "text": [
      "Please provide valid numbers as command-line arguments.\n"
     ]
    }
   ],
   "source": [
    "import sys\n",
    "\n",
    "if len(sys.argv) != 3:\n",
    "    print(\"Please provide exactly two numbers as command-line arguments.\")\n",
    "else:\n",
    "    try:\n",
    "        num1 = float(sys.argv[1])\n",
    "        num2 = float(sys.argv[2])\n",
    "        print(\"The sum is:\", num1 + num2)\n",
    "    except ValueError:\n",
    "        print(\"Please provide valid numbers as command-line arguments.\")\n"
   ]
  },
  {
   "cell_type": "code",
   "execution_count": null,
   "id": "78b150f0-f6d8-458d-9ea2-8351c7ac32ca",
   "metadata": {},
   "outputs": [],
   "source": []
  }
 ],
 "metadata": {
  "kernelspec": {
   "display_name": "Python 3 (ipykernel)",
   "language": "python",
   "name": "python3"
  },
  "language_info": {
   "codemirror_mode": {
    "name": "ipython",
    "version": 3
   },
   "file_extension": ".py",
   "mimetype": "text/x-python",
   "name": "python",
   "nbconvert_exporter": "python",
   "pygments_lexer": "ipython3",
   "version": "3.12.6"
  }
 },
 "nbformat": 4,
 "nbformat_minor": 5
}
