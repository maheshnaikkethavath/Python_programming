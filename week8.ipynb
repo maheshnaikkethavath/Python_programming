{
 "cells": [
  {
   "cell_type": "code",
   "execution_count": 2,
   "id": "298e4913-0353-4cc6-b8ad-af3d20bd205f",
   "metadata": {},
   "outputs": [
    {
     "name": "stdout",
     "output_type": "stream",
     "text": [
      "An error occurred: [Errno 2] No such file or directory: 'first.txt'\n"
     ]
    }
   ],
   "source": [
    "def merge_files(file1, file2, output_file):\n",
    "    try:\n",
    "        with open(file1, 'r') as f1, open(file2, 'r') as f2, open(output_file, 'w') as out_file:\n",
    "            content1 = f1.read()\n",
    "            content2 = f2.read()\n",
    "            out_file.write(content1)\n",
    "            out_file.write(\"\\n\")\n",
    "            out_file.write(content2)\n",
    "        print(f\"Contents of {file1} and {file2} have been merged into {output_file}.\")\n",
    "    except Exception as e:\n",
    "        print(f\"An error occurred: {e}\")\n",
    "\n",
    "file1 = \"file1.txt\"\n",
    "file2 = \"file2.txt\"\n",
    "output_file = \"merged_file.txt\"\n",
    "\n",
    "merge_files(file1, file2, output_file)\n"
   ]
  },
  {
   "cell_type": "code",
   "execution_count": 3,
   "id": "bbc1dfce-ffe6-4d0b-bb4a-80cdc54c55cd",
   "metadata": {},
   "outputs": [
    {
     "name": "stdout",
     "output_type": "stream",
     "text": [
      "An error occurred: [Errno 2] No such file or directory: 'example.txt'\n"
     ]
    }
   ],
   "source": [
    "def check_words_in_file(file_name, words_to_check):\n",
    "    try:\n",
    "        with open(file_name, 'r') as file:\n",
    "            content = file.read()\n",
    "            found_words = []\n",
    "            for word in words_to_check:\n",
    "                if word in content:\n",
    "                    found_words.append(word)\n",
    "            if found_words:\n",
    "                print(\"Found words:\", \", \".join(found_words))\n",
    "            else:\n",
    "                print(\"No words found.\")\n",
    "    except Exception as e:\n",
    "        print(f\"An error occurred: {e}\")\n",
    "\n",
    "file_name = \"example.txt\"\n",
    "words_to_check = [\"Python\", \"programming\", \"code\"]\n",
    "\n",
    "check_words_in_file(file_name, words_to_check)\n"
   ]
  },
  {
   "cell_type": "code",
   "execution_count": 4,
   "id": "d381b3a5-21d6-4e02-a63f-ab388e9e55d1",
   "metadata": {},
   "outputs": [
    {
     "name": "stdout",
     "output_type": "stream",
     "text": [
      "An error occurred: [Errno 2] No such file or directory: 'example.txt'\n"
     ]
    }
   ],
   "source": [
    "from collections import Counter\n",
    "\n",
    "def find_most_frequent_word(file_name):\n",
    "    try:\n",
    "        with open(file_name, 'r') as file:\n",
    "            content = file.read()\n",
    "            words = content.split()\n",
    "            word_count = Counter(words)\n",
    "            most_common_word, count = word_count.most_common(1)[0]\n",
    "            print(f\"The most frequent word is '{most_common_word}' with {count} occurrences.\")\n",
    "    except Exception as e:\n",
    "        print(f\"An error occurred: {e}\")\n",
    "\n",
    "file_name = \"example.txt\"\n",
    "find_most_frequent_word(file_name)\n"
   ]
  },
  {
   "cell_type": "code",
   "execution_count": 5,
   "id": "7cadefc7-c5b4-4976-9f52-f663adcffe60",
   "metadata": {},
   "outputs": [
    {
     "name": "stdout",
     "output_type": "stream",
     "text": [
      "An error occurred: [Errno 2] No such file or directory: 'example.txt'\n"
     ]
    }
   ],
   "source": [
    "def analyze_file(file_name):\n",
    "    try:\n",
    "        with open(file_name, 'r') as file:\n",
    "            content = file.read()\n",
    "            vowels = \"aeiouAEIOU\"\n",
    "            word_count = 0\n",
    "            vowel_count = 0\n",
    "            space_count = 0\n",
    "            lowercase_count = 0\n",
    "            uppercase_count = 0\n",
    "\n",
    "            for char in content:\n",
    "                if char.isalpha():\n",
    "                    if char in vowels:\n",
    "                        vowel_count += 1\n",
    "                    if char.islower():\n",
    "                        lowercase_count += 1\n",
    "                    if char.isupper():\n",
    "                        uppercase_count += 1\n",
    "                if char == \" \":\n",
    "                    space_count += 1\n",
    "                if char == \"\\n\" or char == \" \":\n",
    "                    word_count += 1\n",
    "\n",
    "            print(f\"Number of words: {word_count}\")\n",
    "            print(f\"Number of vowels: {vowel_count}\")\n",
    "            print(f\"Number of blank spaces: {space_count}\")\n",
    "            print(f\"Number of lowercase letters: {lowercase_count}\")\n",
    "            print(f\"Number of uppercase letters: {uppercase_count}\")\n",
    "    except Exception as e:\n",
    "        print(f\"An error occurred: {e}\")\n",
    "\n",
    "file_name = \"example.txt\"\n",
    "analyze_file(file_name)\n"
   ]
  },
  {
   "cell_type": "code",
   "execution_count": 6,
   "id": "a07d6264-edbb-4e0e-a91c-a60a85c4789e",
   "metadata": {},
   "outputs": [
    {
     "name": "stdout",
     "output_type": "stream",
     "text": [
      "An error occurred: [Errno 2] No such file or directory: 'example.txt'\n"
     ]
    }
   ],
   "source": [
    "def print_lines_in_reverse(file_name):\n",
    "    try:\n",
    "        with open(file_name, 'r') as file:\n",
    "            lines = file.readlines()\n",
    "            for line in reversed(lines):\n",
    "                print(line.strip())\n",
    "    except Exception as e:\n",
    "        print(f\"An error occurred: {e}\")\n",
    "\n",
    "file_name = \"example.txt\"\n",
    "print_lines_in_reverse(file_name)\n"
   ]
  },
  {
   "cell_type": "code",
   "execution_count": null,
   "id": "f5eeb0c5-f930-4766-96f9-ba5f5646de17",
   "metadata": {},
   "outputs": [],
   "source": []
  }
 ],
 "metadata": {
  "kernelspec": {
   "display_name": "Python 3 (ipykernel)",
   "language": "python",
   "name": "python3"
  },
  "language_info": {
   "codemirror_mode": {
    "name": "ipython",
    "version": 3
   },
   "file_extension": ".py",
   "mimetype": "text/x-python",
   "name": "python",
   "nbconvert_exporter": "python",
   "pygments_lexer": "ipython3",
   "version": "3.12.6"
  }
 },
 "nbformat": 4,
 "nbformat_minor": 5
}
