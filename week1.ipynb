{
 "cells": [
  {
   "cell_type": "code",
   "execution_count": 1,
   "id": "a37c15a0-0f75-45de-bc36-ac14a1e9b8e5",
   "metadata": {},
   "outputs": [
    {
     "name": "stdout",
     "output_type": "stream",
     "text": [
      "Welcome to the Python calculator!\n",
      "\n",
      "Select an operation:\n",
      "1. Add (+)\n",
      "2. Subtract (-)\n",
      "3. Multiply (*)\n",
      "4. Divide (/)\n",
      "5. Exit\n"
     ]
    },
    {
     "name": "stdin",
     "output_type": "stream",
     "text": [
      "Enter the operation (1/2/3/4/5):  1\n",
      "Enter the first number:  2\n",
      "Enter the second number:  3\n"
     ]
    },
    {
     "name": "stdout",
     "output_type": "stream",
     "text": [
      "2.0 + 3.0 = 5.0\n",
      "\n",
      "Select an operation:\n",
      "1. Add (+)\n",
      "2. Subtract (-)\n",
      "3. Multiply (*)\n",
      "4. Divide (/)\n",
      "5. Exit\n"
     ]
    },
    {
     "name": "stdin",
     "output_type": "stream",
     "text": [
      "Enter the operation (1/2/3/4/5):  5\n"
     ]
    },
    {
     "name": "stdout",
     "output_type": "stream",
     "text": [
      "Exiting the calculator.\n"
     ]
    }
   ],
   "source": [
    "def calculator():\n",
    "    print(\"Welcome to the Python calculator!\")\n",
    "    while True:\n",
    "        print(\"\\nSelect an operation:\")\n",
    "        print(\"1. Add (+)\")\n",
    "        print(\"2. Subtract (-)\")\n",
    "        print(\"3. Multiply (*)\")\n",
    "        print(\"4. Divide (/)\")\n",
    "        print(\"5. Exit\")\n",
    "        \n",
    "        choice = input(\"Enter the operation (1/2/3/4/5): \")\n",
    "\n",
    "        if choice == '5':\n",
    "            print(\"Exiting the calculator.\")\n",
    "            break\n",
    "\n",
    "        try:\n",
    "            num1 = float(input(\"Enter the first number: \"))\n",
    "            num2 = float(input(\"Enter the second number: \"))\n",
    "            \n",
    "            if choice == '1':\n",
    "                print(f\"{num1} + {num2} = {num1 + num2}\")\n",
    "            elif choice == '2':\n",
    "                print(f\"{num1} - {num2} = {num1 - num2}\")\n",
    "            elif choice == '3':\n",
    "                print(f\"{num1} * {num2} = {num1 * num2}\")\n",
    "            elif choice == '4':\n",
    "                if num2 != 0:\n",
    "                    print(f\"{num1} / {num2} = {num1 / num2}\")\n",
    "                else:\n",
    "                    print(\"Error! Division by zero.\")\n",
    "            else:\n",
    "                print(\"Invalid choice. Please select a valid operation.\")\n",
    "        except ValueError:\n",
    "            print(\"Invalid input. Please enter numeric values.\")\n",
    "\n",
    "calculator()\n"
   ]
  },
  {
   "cell_type": "code",
   "execution_count": 2,
   "id": "48ffb0ff-20ab-438d-bfce-c762af9b4bc8",
   "metadata": {},
   "outputs": [
    {
     "ename": "IndentationError",
     "evalue": "expected an indented block after function definition on line 1 (2572332700.py, line 2)",
     "output_type": "error",
     "traceback": [
      "\u001b[1;36m  Cell \u001b[1;32mIn[2], line 2\u001b[1;36m\u001b[0m\n\u001b[1;33m    print(\"Hello, world!\")  # IndentationError here\u001b[0m\n\u001b[1;37m    ^\u001b[0m\n\u001b[1;31mIndentationError\u001b[0m\u001b[1;31m:\u001b[0m expected an indented block after function definition on line 1\n"
     ]
    }
   ],
   "source": [
    "def greet():\n",
    "print(\"Hello, world!\")\n",
    "\n",
    "greet()\n"
   ]
  },
  {
   "cell_type": "code",
   "execution_count": 3,
   "id": "fb6f8679-0294-4e93-8276-9516ae96410b",
   "metadata": {},
   "outputs": [
    {
     "name": "stdout",
     "output_type": "stream",
     "text": [
      "Hello, world!\n"
     ]
    }
   ],
   "source": [
    "def greet():\n",
    "  print(\"Hello, world!\")  \n",
    "\n",
    "greet()\n"
   ]
  },
  {
   "cell_type": "code",
   "execution_count": 4,
   "id": "dea2c047-1a15-442c-abd3-daa7bef554f7",
   "metadata": {},
   "outputs": [
    {
     "name": "stdin",
     "output_type": "stream",
     "text": [
      "Enter principal amount:  10000\n",
      "Enter rate of interest:  23\n",
      "Enter number of periods:  12\n"
     ]
    },
    {
     "name": "stdout",
     "output_type": "stream",
     "text": [
      "Compound interest is: 109911.63848716905\n"
     ]
    }
   ],
   "source": [
    "def compound_interest(principal, rate, periods):\n",
    "    amount = principal * (1 + rate / 100) ** periods\n",
    "    return amount - principal\n",
    "\n",
    "principal = float(input(\"Enter principal amount: \"))\n",
    "rate = float(input(\"Enter rate of interest: \"))\n",
    "periods = int(input(\"Enter number of periods: \"))\n",
    "\n",
    "interest = compound_interest(principal, rate, periods)\n",
    "print(f\"Compound interest is: {interest}\")\n"
   ]
  },
  {
   "cell_type": "code",
   "execution_count": 5,
   "id": "e8f78d99-517f-44de-b25a-71958772dea2",
   "metadata": {},
   "outputs": [
    {
     "name": "stdin",
     "output_type": "stream",
     "text": [
      "Enter x1:  22\n",
      "Enter y1:  21\n",
      "Enter x2:  23\n",
      "Enter y2:  11\n"
     ]
    },
    {
     "name": "stdout",
     "output_type": "stream",
     "text": [
      "Distance between the points: 10.04987562112089\n"
     ]
    }
   ],
   "source": [
    "import math\n",
    "\n",
    "x1, y1 = float(input(\"Enter x1: \")), float(input(\"Enter y1: \"))\n",
    "x2, y2 = float(input(\"Enter x2: \")), float(input(\"Enter y2: \"))\n",
    "\n",
    "distance = math.sqrt((x2 - x1) ** 2 + (y2 - y1) ** 2)\n",
    "print(f\"Distance between the points: {distance}\")\n"
   ]
  },
  {
   "cell_type": "code",
   "execution_count": 6,
   "id": "4f7e491e-10fe-417b-9048-1740740d0eb3",
   "metadata": {},
   "outputs": [
    {
     "name": "stdin",
     "output_type": "stream",
     "text": [
      "Enter name:  mahesh\n",
      "Enter address:  hyd\n",
      "Enter email:  mahi@gmail.com\n",
      "Enter phone number:  9121995972\n"
     ]
    },
    {
     "name": "stdout",
     "output_type": "stream",
     "text": [
      "\n",
      "Details:\n",
      "Name: mahesh\n",
      "Address: hyd\n",
      "Email: mahi@gmail.com\n",
      "Phone number: 9121995972\n"
     ]
    }
   ],
   "source": [
    "name = input(\"Enter name: \")\n",
    "address = input(\"Enter address: \")\n",
    "email = input(\"Enter email: \")\n",
    "phone = input(\"Enter phone number: \")\n",
    "\n",
    "print(\"\\nDetails:\")\n",
    "print(\"Name:\", name)\n",
    "print(\"Address:\", address)\n",
    "print(\"Email:\", email)\n",
    "print(\"Phone number:\", phone)\n"
   ]
  },
  {
   "cell_type": "code",
   "execution_count": null,
   "id": "aea51641-5fbe-4906-80ca-b6b772efd0f4",
   "metadata": {},
   "outputs": [],
   "source": []
  }
 ],
 "metadata": {
  "kernelspec": {
   "display_name": "Python 3 (ipykernel)",
   "language": "python",
   "name": "python3"
  },
  "language_info": {
   "codemirror_mode": {
    "name": "ipython",
    "version": 3
   },
   "file_extension": ".py",
   "mimetype": "text/x-python",
   "name": "python",
   "nbconvert_exporter": "python",
   "pygments_lexer": "ipython3",
   "version": "3.12.6"
  }
 },
 "nbformat": 4,
 "nbformat_minor": 5
}
