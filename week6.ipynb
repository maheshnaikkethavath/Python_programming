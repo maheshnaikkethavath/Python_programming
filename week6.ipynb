{
 "cells": [
  {
   "cell_type": "code",
   "execution_count": 2,
   "id": "899ef55e-a95b-4655-9f18-ebab486f4099",
   "metadata": {},
   "outputs": [
    {
     "name": "stdin",
     "output_type": "stream",
     "text": [
      "Enter a number:  3\n",
      "Enter another number:  0\n"
     ]
    },
    {
     "name": "stdout",
     "output_type": "stream",
     "text": [
      "Error! Division by zero is not allowed.\n"
     ]
    }
   ],
   "source": [
    "try:\n",
    "    \n",
    "    num1 = int(input(\"Enter a number: \"))\n",
    "    num2 = int(input(\"Enter another number: \"))\n",
    "    result = num1 / num2\n",
    "    print(f\"The result of division is: {result}\")\n",
    "except ZeroDivisionError:\n",
    "    print(\"Error! Division by zero is not allowed.\")\n",
    "except ValueError:\n",
    "    print(\"Error! Invalid input. Please enter a valid number.\")\n",
    "except Exception as e:\n",
    "    print(f\"An unexpected error occurred: {e}\")\n"
   ]
  },
  {
   "cell_type": "code",
   "execution_count": 3,
   "id": "8192d93e-e178-4726-8948-3d6d1ac5a7cb",
   "metadata": {},
   "outputs": [
    {
     "name": "stdin",
     "output_type": "stream",
     "text": [
      "Enter your age:  23\n"
     ]
    },
    {
     "name": "stdout",
     "output_type": "stream",
     "text": [
      "Voter's age is valid.\n"
     ]
    },
    {
     "name": "stdin",
     "output_type": "stream",
     "text": [
      "Enter the first number:  13\n",
      "Enter the second number:  45\n"
     ]
    },
    {
     "name": "stdout",
     "output_type": "stream",
     "text": [
      "The result of division is: 0.28888888888888886\n"
     ]
    }
   ],
   "source": [
    "def check_voter_age(age):\n",
    "    if age < 18:\n",
    "        raise ValueError(\"Error! Voter must be 18 years or older.\")\n",
    "    else:\n",
    "        print(\"Voter's age is valid.\")\n",
    "\n",
    "def divide_numbers(num1, num2):\n",
    "    if num2 == 0:\n",
    "        raise ZeroDivisionError(\"Error! Cannot divide by zero.\")\n",
    "    else:\n",
    "        return num1 / num2\n",
    "\n",
    "try:\n",
    "    \n",
    "    age = int(input(\"Enter your age: \"))\n",
    "    check_voter_age(age)\n",
    "    num1 = int(input(\"Enter the first number: \"))\n",
    "    num2 = int(input(\"Enter the second number: \"))\n",
    "    result = divide_numbers(num1, num2)\n",
    "    print(f\"The result of division is: {result}\")\n",
    "\n",
    "except ZeroDivisionError as e:\n",
    "    print(e)\n",
    "except ValueError as e:\n",
    "    print(e)\n",
    "except Exception as e:\n",
    "    print(f\"An unexpected error occurred: {e}\")\n"
   ]
  },
  {
   "cell_type": "code",
   "execution_count": 4,
   "id": "cc528d6c-e226-441e-940e-2f9520ebf4ee",
   "metadata": {},
   "outputs": [
    {
     "name": "stdin",
     "output_type": "stream",
     "text": [
      "Enter student name:  mahesh\n"
     ]
    },
    {
     "name": "stdout",
     "output_type": "stream",
     "text": [
      "Valid student name: mahesh\n"
     ]
    },
    {
     "name": "stdin",
     "output_type": "stream",
     "text": [
      "Enter student marks:  78\n"
     ]
    },
    {
     "name": "stdout",
     "output_type": "stream",
     "text": [
      "Valid marks: 78\n"
     ]
    }
   ],
   "source": [
    "def validate_marks(marks):\n",
    "    if marks < 0 or marks > 100:\n",
    "        raise ValueError(\"Error! Marks must be between 0 and 100.\")\n",
    "    else:\n",
    "        print(f\"Valid marks: {marks}\")\n",
    "\n",
    "def validate_name(name):\n",
    "    if not isinstance(name, str):\n",
    "        raise TypeError(\"Error! Name must be a string.\")\n",
    "    elif not name.isalpha():\n",
    "        raise ValueError(\"Error! Name must contain only alphabetic characters.\")\n",
    "    else:\n",
    "        print(f\"Valid student name: {name}\")\n",
    "\n",
    "try:\n",
    "    student_name = input(\"Enter student name: \")\n",
    "    validate_name(student_name)\n",
    "\n",
    "    student_marks = int(input(\"Enter student marks: \"))\n",
    "    validate_marks(student_marks)\n",
    "\n",
    "except ValueError as e:\n",
    "    print(e)\n",
    "except TypeError as e:\n",
    "    print(e)\n",
    "except Exception as e:\n",
    "    print(f\"An unexpected error occurred: {e}\")\n"
   ]
  },
  {
   "cell_type": "code",
   "execution_count": 5,
   "id": "c8d0ea49-e415-417f-a1d8-801727d295af",
   "metadata": {},
   "outputs": [
    {
     "name": "stdin",
     "output_type": "stream",
     "text": [
      "Enter a number:  15\n",
      "Enter another number:  15000\n"
     ]
    },
    {
     "name": "stdout",
     "output_type": "stream",
     "text": [
      "Division result: 0.001\n",
      "Error: list index out of range - Index out of range.\n"
     ]
    }
   ],
   "source": [
    "try:\n",
    "   \n",
    "    num1 = int(input(\"Enter a number: \"))\n",
    "    num2 = int(input(\"Enter another number: \"))\n",
    "    result = num1 / num2\n",
    "    print(f\"Division result: {result}\")\n",
    "\n",
    "    lst = [1, 2, 3]\n",
    "    print(lst[5])  \n",
    "\n",
    "except ZeroDivisionError as e:\n",
    "    print(f\"Error: {e} - You can't divide by zero.\")\n",
    "except ValueError as e:\n",
    "    print(f\"Error: {e} - Invalid input, please enter a number.\")\n",
    "except IndexError as e:\n",
    "    print(f\"Error: {e} - Index out of range.\")\n",
    "except KeyError as e:\n",
    "    print(f\"Error: {e} - Key not found in dictionary.\")\n",
    "except FileNotFoundError as e:\n",
    "    print(f\"Error: {e} - The specified file was not found.\")\n",
    "except Exception as e:\n",
    "    print(f\"An unexpected error occurred: {e}\")\n"
   ]
  },
  {
   "cell_type": "code",
   "execution_count": 6,
   "id": "81903625-b98f-4eb2-8572-8369eb2552f8",
   "metadata": {},
   "outputs": [
    {
     "name": "stdin",
     "output_type": "stream",
     "text": [
      "Enter phone number:  9121995872\n"
     ]
    },
    {
     "name": "stdout",
     "output_type": "stream",
     "text": [
      "Valid phone number.\n"
     ]
    },
    {
     "name": "stdin",
     "output_type": "stream",
     "text": [
      "Enter email ID:  mahi@gmail.com\n"
     ]
    },
    {
     "name": "stdout",
     "output_type": "stream",
     "text": [
      "Valid email ID.\n"
     ]
    }
   ],
   "source": [
    "import re\n",
    "\n",
    "def validate_phone_number(phone_number):\n",
    "    pattern = r\"^\\+?\\d{1,4}?[-.\\s]?\\(?\\d{1,3}?\\)?[-.\\s]?\\d{1,4}[-.\\s]?\\d{1,4}[-.\\s]?\\d{1,9}$\"\n",
    "    if re.match(pattern, phone_number):\n",
    "        print(\"Valid phone number.\")\n",
    "    else:\n",
    "        raise ValueError(\"Invalid phone number format.\")\n",
    "\n",
    "def validate_email(email):\n",
    "    pattern = r\"^[a-zA-Z0-9_.+-]+@[a-zA-Z0-9-]+\\.[a-zA-Z0-9-.]+$\"\n",
    "    if re.match(pattern, email):\n",
    "        print(\"Valid email ID.\")\n",
    "    else:\n",
    "        raise ValueError(\"Invalid email ID format.\")\n",
    "\n",
    "try:\n",
    "    phone_number = input(\"Enter phone number: \")\n",
    "    validate_phone_number(phone_number)\n",
    "\n",
    "    email = input(\"Enter email ID: \")\n",
    "    validate_email(email)\n",
    "\n",
    "except ValueError as e:\n",
    "    print(e)\n",
    "\n"
   ]
  },
  {
   "cell_type": "code",
   "execution_count": null,
   "id": "a36a4414-5d1b-4741-8f67-113a54090d32",
   "metadata": {},
   "outputs": [],
   "source": []
  }
 ],
 "metadata": {
  "kernelspec": {
   "display_name": "Python 3 (ipykernel)",
   "language": "python",
   "name": "python3"
  },
  "language_info": {
   "codemirror_mode": {
    "name": "ipython",
    "version": 3
   },
   "file_extension": ".py",
   "mimetype": "text/x-python",
   "name": "python",
   "nbconvert_exporter": "python",
   "pygments_lexer": "ipython3",
   "version": "3.12.6"
  }
 },
 "nbformat": 4,
 "nbformat_minor": 5
}
