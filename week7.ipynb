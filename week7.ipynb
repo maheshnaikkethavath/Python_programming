{
 "cells": [
  {
   "cell_type": "code",
   "execution_count": 4,
   "id": "290ee93e-b1d4-4b1f-8ece-d58673bab0d4",
   "metadata": {},
   "outputs": [],
   "source": [
    "import math\n",
    "\n",
    "def area_of_circle(radius):\n",
    "    return math.pi * radius ** 2\n",
    "\n",
    "def perimeter_of_circle(radius):\n",
    "    return 2 * math.pi * radius\n",
    "\n",
    "def area_of_rectangle(length, width):\n",
    "    return length * width\n",
    "\n",
    "def perimeter_of_rectangle(length, width):\n",
    "    return 2 * (length + width)\n",
    "\n",
    "def area_of_square(side):\n",
    "    return side ** 2\n",
    "\n",
    "def perimeter_of_square(side):\n",
    "    return 4 * side\n",
    "\n",
    "def area_of_triangle(base, height):\n",
    "    return 0.5 * base * height\n",
    "\n",
    "def perimeter_of_triangle(side1, side2, side3):\n",
    "    return side1 + side2 + side3\n"
   ]
  },
  {
   "cell_type": "code",
   "execution_count": 5,
   "id": "e6ff476a-8fc4-428f-964d-3579efdd4357",
   "metadata": {},
   "outputs": [
    {
     "name": "stdout",
     "output_type": "stream",
     "text": [
      "Area of circle with radius 5: 78.53981633974483\n",
      "Perimeter of circle with radius 5: 31.41592653589793\n",
      "Area of rectangle: 24\n",
      "Perimeter of rectangle: 20\n",
      "Area of square: 9\n",
      "Perimeter of square: 12\n",
      "Area of triangle: 6.0\n",
      "Perimeter of triangle: 12\n"
     ]
    }
   ],
   "source": [
    "\n",
    "radius = 5\n",
    "print(f\"Area of circle with radius {radius}: {area_of_circle(radius)}\")\n",
    "print(f\"Perimeter of circle with radius {radius}: {perimeter_of_circle(radius)}\")\n",
    "\n",
    "length = 4\n",
    "width = 6\n",
    "print(f\"Area of rectangle: {area_of_rectangle(length, width)}\")\n",
    "print(f\"Perimeter of rectangle: {perimeter_of_rectangle(length, width)}\")\n",
    "side = 3\n",
    "print(f\"Area of square: {area_of_square(side)}\")\n",
    "print(f\"Perimeter of square: {perimeter_of_square(side)}\")\n",
    "base = 4\n",
    "height = 3\n",
    "side1, side2, side3 = 3, 4, 5\n",
    "print(f\"Area of triangle: {area_of_triangle(base, height)}\")\n",
    "print(f\"Perimeter of triangle: {perimeter_of_triangle(side1, side2, side3)}\")\n"
   ]
  },
  {
   "cell_type": "code",
   "execution_count": 9,
   "id": "d72ce6a4-95cf-4fd7-896f-2de488c32a79",
   "metadata": {},
   "outputs": [],
   "source": [
    "import tkinter as tk\n",
    "\n",
    "def draw_rectangle(canvas, rectangle):\n",
    "    x1, y1, x2, y2 = rectangle\n",
    "    canvas.create_rectangle(x1, y1, x2, y2, outline=\"black\", fill=\"blue\", width=2)\n",
    "\n",
    "root = tk.Tk()\n",
    "root.title(\"Rectangle Drawer\")\n",
    "\n",
    "canvas = tk.Canvas(root, width=400, height=400)\n",
    "canvas.pack()\n",
    "\n",
    "rectangle = (50, 50, 200, 150)\n",
    "\n",
    "draw_rectangle(canvas, rectangle)\n",
    "\n",
    "root.mainloop()\n"
   ]
  },
  {
   "cell_type": "code",
   "execution_count": 12,
   "id": "60bbe9ee-1997-494c-98c6-56a761b7255e",
   "metadata": {},
   "outputs": [],
   "source": [
    "import tkinter as tk\n",
    "\n",
    "class Rectangle:\n",
    "    def __init__(self, x1, y1, x2, y2, color):\n",
    "        self.x1 = x1\n",
    "        self.y1 = y1\n",
    "        self.x2 = x2\n",
    "        self.y2 = y2\n",
    "        self.color = color\n",
    "\n",
    "def draw_rectangle(canvas, rectangle):\n",
    "    canvas.create_rectangle(rectangle.x1, rectangle.y1, rectangle.x2, rectangle.y2, outline=\"black\", fill=rectangle.color, width=2)\n",
    "\n",
    "root = tk.Tk()\n",
    "root.title(\"Rectangle Drawer\")\n",
    "\n",
    "canvas = tk.Canvas(root, width=400, height=400)\n",
    "canvas.pack()\n",
    "\n",
    "# Create a Rectangle object with a color attribute\n",
    "rectangle = Rectangle(50, 50, 200, 150, \"blue\")\n",
    "\n",
    "draw_rectangle(canvas, rectangle)\n",
    "\n",
    "root.mainloop()\n"
   ]
  },
  {
   "cell_type": "code",
   "execution_count": 17,
   "id": "639e75f2-cd4a-46cb-8fdb-f4d7baf2c347",
   "metadata": {},
   "outputs": [],
   "source": [
    "import tkinter as tk\n",
    "\n",
    "class Point:\n",
    "    def __init__(self, x, y):\n",
    "        self.x = x\n",
    "        self.y = y\n",
    "\n",
    "def draw_point(canvas, point):\n",
    "    radius = 2  \n",
    "    canvas.create_oval(point.x - radius, point.y - radius, point.x + radius, point.y + radius, outline=\"black\", fill=\"red\")\n",
    "\n",
    "root = tk.Tk()\n",
    "root.title(\"Point Drawer\")\n",
    "\n",
    "canvas = tk.Canvas(root, width=400, height=400)\n",
    "canvas.pack()\n",
    "\n",
    "\n",
    "point = Point(150, 150)\n",
    "\n",
    "draw_point(canvas, point)\n",
    "\n",
    "root.mainloop()\n"
   ]
  },
  {
   "cell_type": "code",
   "execution_count": null,
   "id": "dac029e8-4e87-4752-90d6-27c018beb3d2",
   "metadata": {},
   "outputs": [],
   "source": []
  },
  {
   "cell_type": "code",
   "execution_count": 19,
   "id": "424487c6-f1f5-4e2d-9629-601686f5b72c",
   "metadata": {},
   "outputs": [
    {
     "name": "stdout",
     "output_type": "stream",
     "text": [
      "Hello from class D\n",
      "[<class '__main__.D'>, <class '__main__.B'>, <class '__main__.C'>, <class '__main__.A'>, <class 'object'>]\n",
      "(<class '__main__.D'>, <class '__main__.B'>, <class '__main__.C'>, <class '__main__.A'>, <class 'object'>)\n"
     ]
    }
   ],
   "source": [
    "class A:\n",
    "    def greet(self):\n",
    "        print(\"Hello from class A\")\n",
    "\n",
    "class B(A):\n",
    "    def greet(self):\n",
    "        print(\"Hello from class B\")\n",
    "\n",
    "class C(A):\n",
    "    def greet(self):\n",
    "        print(\"Hello from class C\")\n",
    "\n",
    "class D(B, C):\n",
    "    def greet(self):\n",
    "        print(\"Hello from class D\")\n",
    "\n",
    "# Create an instance of class D\n",
    "obj = D()\n",
    "\n",
    "# Calling greet() method\n",
    "obj.greet()\n",
    "\n",
    "# Print the MRO (Method Resolution Order) for class D\n",
    "print(D.mro())\n",
    "\n",
    "# Alternatively, we can also print the __mro__ attribute\n",
    "print(D.__mro__)\n"
   ]
  },
  {
   "cell_type": "code",
   "execution_count": null,
   "id": "d251b85b-82e9-41cd-b190-d10009cf2b5c",
   "metadata": {},
   "outputs": [],
   "source": [
    "\n",
    "\n",
    "\n"
   ]
  }
 ],
 "metadata": {
  "kernelspec": {
   "display_name": "Python 3 (ipykernel)",
   "language": "python",
   "name": "python3"
  },
  "language_info": {
   "codemirror_mode": {
    "name": "ipython",
    "version": 3
   },
   "file_extension": ".py",
   "mimetype": "text/x-python",
   "name": "python",
   "nbconvert_exporter": "python",
   "pygments_lexer": "ipython3",
   "version": "3.12.6"
  }
 },
 "nbformat": 4,
 "nbformat_minor": 5
}
