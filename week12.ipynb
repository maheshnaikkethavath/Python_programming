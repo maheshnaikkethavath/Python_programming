{
 "cells": [
  {
   "cell_type": "code",
   "execution_count": 1,
   "id": "f64c2511-977f-4353-98ec-fa96b971873e",
   "metadata": {},
   "outputs": [
    {
     "name": "stdout",
     "output_type": "stream",
     "text": [
      "AND Gate:\n",
      "0 AND 0 = 0\n",
      "0 AND 1 = 0\n",
      "1 AND 0 = 0\n",
      "1 AND 1 = 1\n",
      "\n",
      "OR Gate:\n",
      "0 OR 0 = 0\n",
      "0 OR 1 = 1\n",
      "1 OR 0 = 1\n",
      "1 OR 1 = 1\n",
      "\n",
      "NOT Gate:\n",
      "NOT 0 = 1\n",
      "NOT 1 = 0\n",
      "\n",
      "XOR Gate:\n",
      "0 XOR 0 = 0\n",
      "0 XOR 1 = 1\n",
      "1 XOR 0 = 1\n",
      "1 XOR 1 = 0\n"
     ]
    }
   ],
   "source": [
    "def AND_gate(a, b):\n",
    "    return a & b\n",
    "\n",
    "def OR_gate(a, b):\n",
    "    return a | b\n",
    "\n",
    "def NOT_gate(a):\n",
    "    return ~a & 1  # Ensuring the result is either 0 or 1\n",
    "\n",
    "def XOR_gate(a, b):\n",
    "    return a ^ b\n",
    "\n",
    "# Test the logic gates\n",
    "print(\"AND Gate:\")\n",
    "print(f\"0 AND 0 = {AND_gate(0, 0)}\")\n",
    "print(f\"0 AND 1 = {AND_gate(0, 1)}\")\n",
    "print(f\"1 AND 0 = {AND_gate(1, 0)}\")\n",
    "print(f\"1 AND 1 = {AND_gate(1, 1)}\")\n",
    "\n",
    "print(\"\\nOR Gate:\")\n",
    "print(f\"0 OR 0 = {OR_gate(0, 0)}\")\n",
    "print(f\"0 OR 1 = {OR_gate(0, 1)}\")\n",
    "print(f\"1 OR 0 = {OR_gate(1, 0)}\")\n",
    "print(f\"1 OR 1 = {OR_gate(1, 1)}\")\n",
    "\n",
    "print(\"\\nNOT Gate:\")\n",
    "print(f\"NOT 0 = {NOT_gate(0)}\")\n",
    "print(f\"NOT 1 = {NOT_gate(1)}\")\n",
    "\n",
    "print(\"\\nXOR Gate:\")\n",
    "print(f\"0 XOR 0 = {XOR_gate(0, 0)}\")\n",
    "print(f\"0 XOR 1 = {XOR_gate(0, 1)}\")\n",
    "print(f\"1 XOR 0 = {XOR_gate(1, 0)}\")\n",
    "print(f\"1 XOR 1 = {XOR_gate(1, 1)}\")\n"
   ]
  },
  {
   "cell_type": "code",
   "execution_count": 2,
   "id": "886c0dab-9799-4977-bde7-85ffd5f6937d",
   "metadata": {},
   "outputs": [
    {
     "name": "stdout",
     "output_type": "stream",
     "text": [
      "Half Adder:\n",
      "Inputs: a = 1, b = 1\n",
      "Sum: 0, Carry: 1\n",
      "\n",
      "Full Adder:\n",
      "Inputs: a = 1, b = 1, carry_in = 1\n",
      "Sum: 1, Carry Out: 1\n",
      "\n",
      "Parallel Adder:\n",
      "Inputs: bin1 = 1101, bin2 = 1011\n",
      "Sum: 1000, Final Carry: 1\n"
     ]
    }
   ],
   "source": [
    "def half_adder(a, b):\n",
    "    sum_bit = a ^ b\n",
    "    carry = a & b\n",
    "    return sum_bit, carry\n",
    "\n",
    "def full_adder(a, b, carry_in):\n",
    "    sum_bit = a ^ b ^ carry_in\n",
    "    carry_out = (a & b) | (carry_in & (a ^ b))\n",
    "    return sum_bit, carry_out\n",
    "\n",
    "def parallel_adder(bin1, bin2):\n",
    "    max_len = max(len(bin1), len(bin2))\n",
    "    bin1 = bin1.zfill(max_len)\n",
    "    bin2 = bin2.zfill(max_len)\n",
    "    \n",
    "    sum_bits = \"\"\n",
    "    carry = 0\n",
    "    for i in range(max_len - 1, -1, -1):\n",
    "        sum_bit, carry = full_adder(int(bin1[i]), int(bin2[i]), carry)\n",
    "        sum_bits = str(sum_bit) + sum_bits\n",
    "    \n",
    "    return sum_bits, carry\n",
    "\n",
    "print(\"Half Adder:\")\n",
    "a, b = 1, 1\n",
    "sum_bit, carry = half_adder(a, b)\n",
    "print(f\"Inputs: a = {a}, b = {b}\")\n",
    "print(f\"Sum: {sum_bit}, Carry: {carry}\\n\")\n",
    "\n",
    "print(\"Full Adder:\")\n",
    "a, b, carry_in = 1, 1, 1\n",
    "sum_bit, carry_out = full_adder(a, b, carry_in)\n",
    "print(f\"Inputs: a = {a}, b = {b}, carry_in = {carry_in}\")\n",
    "print(f\"Sum: {sum_bit}, Carry Out: {carry_out}\\n\")\n",
    "\n",
    "print(\"Parallel Adder:\")\n",
    "bin1, bin2 = \"1101\", \"1011\"\n",
    "sum_bits, final_carry = parallel_adder(bin1, bin2)\n",
    "print(f\"Inputs: bin1 = {bin1}, bin2 = {bin2}\")\n",
    "print(f\"Sum: {sum_bits}, Final Carry: {final_carry}\")\n"
   ]
  },
  {
   "cell_type": "code",
   "execution_count": null,
   "id": "ab963cee-3b8e-4dcc-ba71-6d94aeaa3611",
   "metadata": {},
   "outputs": [],
   "source": []
  }
 ],
 "metadata": {
  "kernelspec": {
   "display_name": "Python 3 (ipykernel)",
   "language": "python",
   "name": "python3"
  },
  "language_info": {
   "codemirror_mode": {
    "name": "ipython",
    "version": 3
   },
   "file_extension": ".py",
   "mimetype": "text/x-python",
   "name": "python",
   "nbconvert_exporter": "python",
   "pygments_lexer": "ipython3",
   "version": "3.12.6"
  }
 },
 "nbformat": 4,
 "nbformat_minor": 5
}
